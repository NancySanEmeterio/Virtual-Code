{
  "nbformat": 4,
  "nbformat_minor": 0,
  "metadata": {
    "colab": {
      "provenance": [],
      "toc_visible": true,
      "authorship_tag": "ABX9TyN0UrLt3cW+Jq8u8i7S9akT",
      "include_colab_link": true
    },
    "kernelspec": {
      "name": "python3",
      "display_name": "Python 3"
    },
    "language_info": {
      "name": "python"
    }
  },
  "cells": [
    {
      "cell_type": "markdown",
      "metadata": {
        "id": "view-in-github",
        "colab_type": "text"
      },
      "source": [
        "<a href=\"https://colab.research.google.com/github/NancySanEmeterio/Virtual-Code/blob/main/DataSetClasificacionPinguinos.ipynb\" target=\"_parent\"><img src=\"https://colab.research.google.com/assets/colab-badge.svg\" alt=\"Open In Colab\"/></a>"
      ]
    },
    {
      "cell_type": "code",
      "execution_count": 5,
      "metadata": {
        "colab": {
          "base_uri": "https://localhost:8080/"
        },
        "id": "-gzpco_cLJII",
        "outputId": "ed703131-e839-4596-a303-a4c62c31a32c"
      },
      "outputs": [
        {
          "output_type": "stream",
          "name": "stdout",
          "text": [
            "Mounted at /content/gdrive\n"
          ]
        }
      ],
      "source": [
        "from google.colab import drive\n",
        "drive.mount('/content/gdrive')\n"
      ]
    },
    {
      "cell_type": "code",
      "source": [
        "import os\n",
        "os.environ['KAGGLE_CONFIG_DIR'] = \"/content/gdrive/MyDrive/Kaggle\""
      ],
      "metadata": {
        "id": "J69mZrw-T49P"
      },
      "execution_count": 7,
      "outputs": []
    },
    {
      "cell_type": "code",
      "source": [
        "%cd /content/gdrive/My Drive/Colab Notebooks"
      ],
      "metadata": {
        "colab": {
          "base_uri": "https://localhost:8080/"
        },
        "id": "tj6UldCvTTv8",
        "outputId": "4a4044f8-09f7-455e-8725-54a286775fe0"
      },
      "execution_count": 8,
      "outputs": [
        {
          "output_type": "stream",
          "name": "stdout",
          "text": [
            "/content/gdrive/My Drive/Colab Notebooks\n"
          ]
        }
      ]
    },
    {
      "cell_type": "code",
      "source": [
        "!kaggle datasets download -d martaarroyo/palmer-penguins-for-binary-classification\n"
      ],
      "metadata": {
        "colab": {
          "base_uri": "https://localhost:8080/"
        },
        "id": "FsaIY3lNZcsh",
        "outputId": "1ab8c908-2f05-44fc-d7c1-a400d40c8a8a"
      },
      "execution_count": 16,
      "outputs": [
        {
          "output_type": "stream",
          "name": "stdout",
          "text": [
            "Dataset URL: https://www.kaggle.com/datasets/martaarroyo/palmer-penguins-for-binary-classification\n",
            "License(s): Attribution 4.0 International (CC BY 4.0)\n",
            "Downloading palmer-penguins-for-binary-classification.zip to /content/gdrive/MyDrive/Colab Notebooks\n",
            "  0% 0.00/2.42k [00:00<?, ?B/s]\n",
            "100% 2.42k/2.42k [00:00<00:00, 195kB/s]\n"
          ]
        }
      ]
    },
    {
      "cell_type": "code",
      "source": [
        "!unzip palmer-penguins-for-binary-classification.zip"
      ],
      "metadata": {
        "colab": {
          "base_uri": "https://localhost:8080/"
        },
        "id": "TnUp_CKMZwqY",
        "outputId": "3a326a9b-17f1-44d0-adec-d88118a23aed"
      },
      "execution_count": 17,
      "outputs": [
        {
          "output_type": "stream",
          "name": "stdout",
          "text": [
            "Archive:  palmer-penguins-for-binary-classification.zip\n",
            "  inflating: penguins_binary_classification.csv  \n"
          ]
        }
      ]
    },
    {
      "cell_type": "code",
      "source": [
        "import numpy as np\n",
        "import pandas as pd\n",
        "import math\n",
        "\n",
        "# data es nuestro dataset -> data = pd.read_csv('penguins_binary_classification.csv')\n",
        "data = pd.read_csv('penguins_binary_classification.csv')\n",
        "X = data[['bill_length_mm','bill_depth_mm']].to_numpy() # Transformamos el dataset a una matriz Numpy"
      ],
      "metadata": {
        "id": "dQiDQLLgaQaZ"
      },
      "execution_count": 20,
      "outputs": []
    },
    {
      "cell_type": "code",
      "source": [
        "y = pd.get_dummies(data['species'], drop_first= True)\n",
        "# y = 0 -> Adelie\n",
        "# y = 1 -> Gentoo\n",
        "y = y['Gentoo'].to_numpy()"
      ],
      "metadata": {
        "id": "ErQlOxBDbC5E"
      },
      "execution_count": 21,
      "outputs": []
    },
    {
      "cell_type": "code",
      "source": [
        "print(\"Primeros 5 elementos de nuestro dataset:\\n\", X[:5])\n",
        "print(\"Tipo de X:\",type(X))"
      ],
      "metadata": {
        "colab": {
          "base_uri": "https://localhost:8080/"
        },
        "id": "EFvHLGI2bdKd",
        "outputId": "9669b48d-300c-419c-f3e9-e5e68b2cc0de"
      },
      "execution_count": 22,
      "outputs": [
        {
          "output_type": "stream",
          "name": "stdout",
          "text": [
            "Primeros 5 elementos de nuestro dataset:\n",
            " [[39.1 18.7]\n",
            " [39.5 17.4]\n",
            " [40.3 18. ]\n",
            " [36.7 19.3]\n",
            " [39.3 20.6]]\n",
            "Tipo de X: <class 'numpy.ndarray'>\n"
          ]
        }
      ]
    },
    {
      "cell_type": "code",
      "source": [
        "print(\"Primeros 5 elementos del vector de etiquetas:\\n\", y[:5])\n",
        "print(\"Tipo de y:\",type(y))"
      ],
      "metadata": {
        "colab": {
          "base_uri": "https://localhost:8080/"
        },
        "id": "btw1xFtIbnXT",
        "outputId": "588be4b5-5494-49d4-fb80-f1e99361f41a"
      },
      "execution_count": 23,
      "outputs": [
        {
          "output_type": "stream",
          "name": "stdout",
          "text": [
            "Primeros 5 elementos del vector de etiquetas:\n",
            " [False False False False False]\n",
            "Tipo de y: <class 'numpy.ndarray'>\n"
          ]
        }
      ]
    },
    {
      "cell_type": "code",
      "source": [
        "print ('Las dimensiones de X son: ' + str(X.shape))\n",
        "print ('Las dimensiones de y son: ' + str(y.shape))\n",
        "print ('Tenemos m = %d muestras de entrenamiento' % (len(y)))"
      ],
      "metadata": {
        "colab": {
          "base_uri": "https://localhost:8080/"
        },
        "id": "ocP0Z29ncPDF",
        "outputId": "8fe6ddcb-b87e-4249-ea8b-8b165ca6324d"
      },
      "execution_count": 24,
      "outputs": [
        {
          "output_type": "stream",
          "name": "stdout",
          "text": [
            "Las dimensiones de X son: (274, 2)\n",
            "Las dimensiones de y son: (274,)\n",
            "Tenemos m = 274 muestras de entrenamiento\n"
          ]
        }
      ]
    },
    {
      "cell_type": "code",
      "source": [
        "import matplotlib.pyplot as plt\n",
        "%matplotlib inline\n",
        "\n",
        "# Buscamos los índices en los que la etiqueta es positiva y negativa\n",
        "pos = y == 1\n",
        "neg = y == 0\n",
        "\n",
        "#Representamos los pingüinos\n",
        "plt.plot(X[pos, 0], X[pos, 1], 'k+', label=\"Gentoo\")\n",
        "plt.plot(X[neg, 0], X[neg, 1], 'yo', label=\"Adelie\")\n",
        "\n",
        "# Etiqueta eje y\n",
        "plt.ylabel('bill_depth_mm')\n",
        "# Etiqueta eje X\n",
        "plt.xlabel('bill_length_mm')\n",
        "plt.legend(loc=\"upper right\")\n",
        "plt.show()"
      ],
      "metadata": {
        "colab": {
          "base_uri": "https://localhost:8080/",
          "height": 450
        },
        "id": "FmH0gyt7czBR",
        "outputId": "ed48193b-ef70-4954-fc57-68350f33385e"
      },
      "execution_count": 25,
      "outputs": [
        {
          "output_type": "display_data",
          "data": {
            "text/plain": [
              "<Figure size 640x480 with 1 Axes>"
            ],
            "image/png": "[encoded data removed]"
          },
          "metadata": {}
        }
      ]
    }
  ]
}